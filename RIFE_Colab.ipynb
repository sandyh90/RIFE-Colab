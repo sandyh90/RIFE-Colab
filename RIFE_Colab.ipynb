{
 "nbformat": 4,
 "nbformat_minor": 0,
 "metadata": {
  "colab": {
   "name": "RIFE_Colab.ipynb",
   "private_outputs": true,
   "provenance": [],
   "collapsed_sections": [],
   "toc_visible": true,
   "authorship_tag": "ABX9TyPY/dsywg8helLQrtjEW0d4"
  },
  "kernelspec": {
   "name": "python3",
   "display_name": "Python 3"
  },
  "accelerator": "GPU"
 },
 "cells": [
  {
   "cell_type": "markdown",
   "metadata": {
    "id": "nm99yB4FDSII"
   },
   "source": [
    "# <b>Start here</b> - Initial environment setup\n",
    "Ensure to run each step in order - Optional steps may be skipped if desired"
   ]
  },
  {
   "cell_type": "code",
   "metadata": {
    "id": "K1mS6WPGDLRw",
    "cellView": "form"
   },
   "source": [
    "#@title Check which Nvidia GPU has been assigned to you\n",
    "!nvidia-smi"
   ],
   "execution_count": null,
   "outputs": []
  },
  {
   "cell_type": "code",
   "metadata": {
    "id": "Qt8AsbgFDbqY",
    "cellView": "form"
   },
   "source": [
    "#@title Step 1 - Set up the environment (Mandatory)\n",
    "onGoogleColab = True\n",
    "onWindows = False\n",
    "previouslySetup = False\n",
    "GPUID = 0\n",
    "\n",
    "import os\n",
    "\n",
    "ffmpeg4 = 'ffmpeg'\n",
    "nvencPresetLocal = 'p7'\n",
    "if onGoogleColab:\n",
    "    !wget https://johnvansickle.com/ffmpeg/releases/ffmpeg-release-amd64-static.tar.xz\n",
    "    !tar -xf ffmpeg-release-amd64-static.tar.xz\n",
    "    !rm ffmpeg-release-amd64-static.tar.xz\n",
    "\n",
    "    ffmpegdir = 'ffmpeg-4.3.1-amd64-static'\n",
    "    dirContent = os.listdir()\n",
    "    for objName in dirContent:\n",
    "        if 'ffmpeg' in objName:\n",
    "            ffmpegdir = objName\n",
    "            print('Found ffmpeg dir:',ffmpegdir)\n",
    "    ffmpeg4 = '/content/'+ffmpegdir+'/ffmpeg'\n",
    "    nvencPresetLocal = 'slow'\n",
    "\n",
    "print('NVENC PRESET',nvencPresetLocal)\n",
    "!git clone --branch main --recurse-submodules https://github.com/sandyh90/RIFE-Colab.git RIFEcolab\n",
    "\n",
    "os.chdir('RIFEcolab/')\n",
    "\n",
    "import sys\n",
    "\n",
    "# Why should we need to add the submodule to the path, just for the RIFE import to work\n",
    "# Thanks for being consistently terrible, python\n",
    "sys.path.insert(0, os.getcwd() + os.path.sep + 'arXiv2020RIFE')\n",
    "\n",
    "from generalInterpolationProceedures import *\n",
    "setGPUinterpolationOptions(3,[0])\n",
    "setNvencSettings(GPUID,nvencPresetLocal)\n",
    "setFFmpeg4Path(ffmpeg4)\n",
    "print('NVENC PRESET',nvencPresetLocal)"
   ],
   "execution_count": null,
   "outputs": []
  },
  {
   "cell_type": "code",
   "metadata": {
    "id": "LEOkOVqDH90n",
    "cellView": "form"
   },
   "source": [
    "#@title Step 2 - Mount your google drive to use as storage for input/output videos (Optional)\n",
    "from google.colab import drive\n",
    "drive.mount('/content/drive')"
   ],
   "execution_count": null,
   "outputs": []
  },
  {
   "cell_type": "markdown",
   "metadata": {
    "id": "cPJYhKLcIpEs"
   },
   "source": [
    "# Processing a single video (Extract -> Interpolate -> Create output - All at once)\n",
    "**Processing a single video has now been broken into two steps:**<br>\n",
    "Run the **set settings for interpolation** step first to apply the desired settings for interpolation, then run the second step to start the interpolator. <br><br>\n",
    "Paste in the path to your video, choose your desired settings, then run this code box to interpolate a single video\n",
    "<br>\n",
    "The output will be in the same folder as the input\n",
    "<br><br>\n",
    "<<< - Click the folder icon on the left hand side to open the file browser<br>\n",
    "Navigate to the file you'd like to interpolate<br>\n",
    "Right click it, click Copy Path and paste it over the top of the example path below"
   ]
  },
  {
   "cell_type": "code",
   "metadata": {
    "id": "Rh6neS2cJFbE",
    "cellView": "form"
   },
   "source": [
    "#@title Run to set settings for interpolation (DO FIRST)\n",
    "#@markdown Input video path\n",
    "inputFile = 'input.mp4' #@param{type:\"string\"}\n",
    "#@markdown Frame handling mode (Available choices: 1, 3, or 4. Equivalent to DAINAPP)\n",
    "mode =  3#@param{type:\"number\"}\n",
    "#@markdown Enable perfect loop (For GIFs or looping videos)\n",
    "loopable = True #@param{type:\"boolean\"}\n",
    "#@markdown Interpolation factor (2, 4, 8, 16, 32... etc)\n",
    "interpolationFactor = 16 #@param{type:\"number\"}\n",
    "#@markdown x264 CRF value for producing the output\n",
    "crf = 20 #@param{type:\"number\"}\n",
    "#@markdown Clear the original_frames and interpolated frames after completion\n",
    "clearPNGs = True #@param{type:\"boolean\"}\n",
    "#@markdown Don't store the PNG files in the same folder as the input video\n",
    "nonLocalPNGs = True #@param{type:\"boolean\"}\n",
    "#@markdown Scenechange sensitivity (lower is more sensitive)\n",
    "scenechangeSensitivity = 0.20 #@param{type:\"number\"}\n",
    "#@markdown Sensitivity of mpdecimate when detecting and removing duplicate frames [hi,lo,frac] (mode 3/4)\n",
    "mpdecimateSensitivity = \"64*12,64*8,0.33\" #@param{type:\"string\"}\n",
    "#@markdown Use NVENC for output\n",
    "useNvenc = True #@param{type:\"boolean\"}\n",
    "#@markdown Use auto encode\n",
    "autoEncode = True #@param{type:\"boolean\"}\n",
    "#@markdown Auto encode block size\n",
    "autoBlockSize = 3000 #@param{type:\"number\"}\n",
    "#@markdown Enable mode 3 target FPS\n",
    "mode3TargetFPSEnable = False #@param{type:\"boolean\"}\n",
    "#@markdown Mode 3 target FPS:\n",
    "mode3TargetFPSValue = 60.000 #@param{type:\"number\"}\n",
    "\n",
    "encoderConfig = EncoderConfig()\n",
    "encoderConfig.set_encoding_crf(float(crf))\n",
    "if bool(useNvenc):\n",
    "    encoderConfig.enable_nvenc(True)\n",
    "    encoderConfig.set_encoding_preset('slow')\n",
    "encoderConfig.set_nvenc_gpu_id(GPUID)\n",
    "\n",
    "interpolatorConfig = InterpolatorConfig()\n",
    "\n",
    "interpolatorConfig.setMode(mode)\n",
    "interpolatorConfig.setClearPngs(clearPNGs)\n",
    "interpolatorConfig.setNonlocalPngs(nonLocalPNGs)\n",
    "interpolatorConfig.setLoopable(loopable)\n",
    "interpolatorConfig.setInterpolationFactor(interpolationFactor)\n",
    "interpolatorConfig.setMpdecimateSensitivity(mpdecimateSensitivity)\n",
    "interpolatorConfig.setScenechangeSensitivity(scenechangeSensitivity)\n",
    "interpolatorConfig.setUhdScale(0.5)\n",
    "interpolatorConfig.setAccountForDuplicateFrames(True)\n",
    "interpolatorConfig.setMode3TargetFPS(mode3TargetFPSEnable,mode3TargetFPSValue)"
   ],
   "execution_count": null,
   "outputs": []
  },
  {
   "cell_type": "code",
   "metadata": {
    "id": "hFncxpNsJGwQ",
    "cellView": "form"
   },
   "source": [
    "#@title Interpolate a single video - Run interpolator (DO SECOND)\n",
    "performAllSteps(inputFile, interpolatorConfig, encoderConfig, useAutoEncode=autoEncode,autoEncodeBlockSize=autoBlockSize)"
   ],
   "execution_count": null,
   "outputs": []
  },
  {
   "cell_type": "markdown",
   "metadata": {
    "id": "yPB9Z4ftaFce"
   },
   "source": [
    "# Processing a single video (Run steps individually)\n",
    "Please run **Run to set settings for interpolation (DO FIRST)** first, before running the steps below in order **Extract frames -> Run interpolator -> Create output**\n",
    "<br><br>\n",
    "Running the steps individually like this will allow you to extract the frames, check for duplicate frames that were missed by FFmpeg after extraction and manually delete them, then run the interpolator, and check for any missed scene changes in the interpolated frames before creating the output"
   ]
  },
  {
   "cell_type": "code",
   "metadata": {
    "id": "muykCvKBaK1V",
    "cellView": "form"
   },
   "source": [
    "#@title Extract frames (step 1)\n",
    "performAllSteps(inputFile, interpolatorConfig, encoderConfig, useAutoEncode=autoEncode,autoEncodeBlockSize=autoBlockSize,step1=True,step2=False,step3=False)"
   ],
   "execution_count": null,
   "outputs": []
  },
  {
   "cell_type": "code",
   "metadata": {
    "id": "Tp8piEAOv24r",
    "cellView": "form"
   },
   "source": [
    "#@title Run interpolator (step 2)\n",
    "performAllSteps(inputFile, interpolatorConfig, encoderConfig, useAutoEncode=autoEncode,autoEncodeBlockSize=autoBlockSize,step1=False,step2=True,step3=False)"
   ],
   "execution_count": null,
   "outputs": []
  },
  {
   "cell_type": "code",
   "metadata": {
    "id": "cC0Ehp_BweZi",
    "cellView": "form"
   },
   "source": [
    "#@title Create output (step 3)\n",
    "performAllSteps(inputFile, interpolatorConfig, encoderConfig, useAutoEncode=autoEncode,autoEncodeBlockSize=autoBlockSize,step1=False,step2=False,step3=True)"
   ],
   "execution_count": null,
   "outputs": []
  },
  {
   "cell_type": "markdown",
   "metadata": {
    "id": "xLizOztw0Kpv"
   },
   "source": [
    "# Processing multiple videos using the batch interpolator\n",
    "set inputDirectory to equal the folder path containing the input videos\n",
    "<br><br>\n",
    "Each video must be in its own subdirectory within the input folder\n",
    "<br><br>\n",
    "The interpolation factor for each video is chosen based on its input FPS (Accounting for duplicate frames if using mode 4). It will choose an interpolation factor which will meet or exceed the 'Output FPS target'\n",
    "<br><br>\n",
    "For perfectly looping GIFs/videos: Add [l] to the filename or subfolder name of the input file. E.G.:<br>\n",
    "inputLoopingGifFileNumberOne[l].gif\n",
    "<br>\n",
    "or\n",
    "<br>\n",
    "InputLoopingGifFolder[l]/inputLoopingGifFileNumberOne.gif"
   ]
  },
  {
   "cell_type": "code",
   "metadata": {
    "id": "UUwBOBIi0TbY",
    "cellView": "form"
   },
   "source": [
    "#@title Interpolate a folder of videos\n",
    "#@markdown Input folder path\n",
    "inputDirectory = 'input.mp4' #@param{type:\"string\"}\n",
    "#@markdown Frame handling mode (Available choices: 1, 3, or 4. Equivalent to DAINAPP)\n",
    "mode = 3 #@param{type:\"number\"}\n",
    "#@markdown Output FPS target\n",
    "fpsTarget = 60 #@param{type:\"number\"}\n",
    "#@markdown x264 CRF value for producing the output\n",
    "crf = 20 #@param{type:\"number\"}\n",
    "#@markdown Clear the original_frames and interpolated frames after completion\n",
    "clearPNGs = True #@param{type:\"boolean\"}\n",
    "#@markdown Don't store the PNG files in the same folder as the input video\n",
    "nonLocalPNGs = True #@param{type:\"boolean\"}\n",
    "#@markdown Scenechange sensitivity (lower is more sensitive)\n",
    "scenechangeSensitivity = 0.20 #@param{type:\"number\"}\n",
    "#@markdown Sensitivity of mpdecimate when detecting and removing duplicate frames [hi,lo,frac] (mode 3/4)\n",
    "mpdecimateSensitivity = \"64*12,64*8,0.33\" #@param{type:\"string\"}\n",
    "#@markdown Use NVENC for output\n",
    "useNvenc = True #@param{type:\"boolean\"}\n",
    "#@markdown Use auto encode\n",
    "autoEncode = False #@param{type:\"boolean\"}\n",
    "#@markdown Auto encode block size\n",
    "autoBlockSize = 3000 #@param{type:\"number\"}\n",
    "#@markdown Enable mode 3 target FPS\n",
    "mode3TargetFPSEnable = True #@param{type:\"boolean\"}\n",
    "#@markdown Mode 3 target FPS:\n",
    "mode3TargetFPSValue = 60.000 #@param{type:\"number\"}\n",
    "\n",
    "\n",
    "encoderConfig = EncoderConfig()\n",
    "encoderConfig.set_encoding_crf(float(crf))\n",
    "if bool(useNvenc):\n",
    "    encoderConfig.enable_nvenc(True)\n",
    "    encoderConfig.set_encoding_preset('slow')\n",
    "encoderConfig.set_nvenc_gpu_id(GPUID)\n",
    "encoderConfig.set_looping_options(10,15,True)\n",
    "\n",
    "interpolatorConfig = InterpolatorConfig()\n",
    "\n",
    "interpolatorConfig.setMode(mode)\n",
    "interpolatorConfig.setClearPngs(clearPNGs)\n",
    "interpolatorConfig.setNonlocalPngs(nonLocalPNGs)\n",
    "# interpolatorConfig.setLoopable(args.loopable)\n",
    "# interpolatorConfig.setInterpolationFactor(args.interpolationFactor)\n",
    "interpolatorConfig.setMpdecimateSensitivity(mpdecimateSensitivity)\n",
    "interpolatorConfig.setScenechangeSensitivity(scenechangeSensitivity)\n",
    "interpolatorConfig.setUhdScale(0.5)\n",
    "interpolatorConfig.setAccountForDuplicateFrames(True)\n",
    "interpolatorConfig.setMode3TargetFPS(mode3TargetFPSEnable,mode3TargetFPSValue)\n",
    "\n",
    "batchInterpolateFolder(inputDirectory,interpolatorConfig,fpsTarget,encoderConfig,useAutoEncode=autoEncode,autoEncodeBlockSize=autoBlockSize)"
   ],
   "execution_count": null,
   "outputs": []
  }
 ]
}
